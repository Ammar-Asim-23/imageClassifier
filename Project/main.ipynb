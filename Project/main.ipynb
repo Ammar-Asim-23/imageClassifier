{
 "cells": [
  {
   "cell_type": "markdown",
   "metadata": {},
   "source": [
    "Importing Necessary Modules"
   ]
  },
  {
   "cell_type": "code",
   "execution_count": 20,
   "metadata": {},
   "outputs": [],
   "source": [
    "%matplotlib inline\n",
    "import pandas as pd\n",
    "import matplotlib.pyplot as plt  \n",
    "import numpy as np\n",
    "import tensorflow as tf\n",
    "\n"
   ]
  },
  {
   "cell_type": "markdown",
   "metadata": {},
   "source": [
    "Loading the Datasets"
   ]
  },
  {
   "cell_type": "code",
   "execution_count": 21,
   "metadata": {},
   "outputs": [],
   "source": [
    "test_set = pd.read_csv('imageRecognition/mnist_test.csv', index_col=None)\n",
    "train_set = pd.read_csv('imageRecognition/mnist_train.csv', index_col=None) "
   ]
  },
  {
   "cell_type": "markdown",
   "metadata": {},
   "source": [
    "Familiarizing with the Datasets"
   ]
  },
  {
   "cell_type": "code",
   "execution_count": 22,
   "metadata": {},
   "outputs": [
    {
     "name": "stdout",
     "output_type": "stream",
     "text": [
      "[[  7   0   0   0   0   0   0   0   0   0   0   0   0   0   0   0   0   0\n",
      "    0   0   0   0   0   0   0   0   0   0   0   0   0   0   0   0   0   0\n",
      "    0   0   0   0   0   0   0   0   0   0   0   0   0   0   0   0   0   0\n",
      "    0   0   0   0   0   0   0   0   0   0   0   0   0   0   0   0   0   0\n",
      "    0   0   0   0   0   0   0   0   0   0   0   0   0   0   0   0   0   0\n",
      "    0   0   0   0   0   0   0   0   0   0   0   0   0   0   0   0   0   0\n",
      "    0   0   0   0   0   0   0   0   0   0   0   0   0   0   0   0   0   0\n",
      "    0   0   0   0   0   0   0   0   0   0   0   0   0   0   0   0   0   0\n",
      "    0   0   0   0   0   0   0   0   0   0   0   0   0   0   0   0   0   0\n",
      "    0   0   0   0   0   0   0   0   0   0   0   0   0   0   0   0   0   0\n",
      "    0   0   0   0   0   0   0   0   0   0   0   0   0   0   0   0   0   0\n",
      "    0   0   0   0   0  84 185 159 151  60  36   0   0   0   0   0   0   0\n",
      "    0   0   0   0   0   0   0   0   0   0   0   0   0   0   0 222 254 254\n",
      "  254 254 241 198 198 198 198 198 198 198 198 170  52   0   0   0   0   0\n",
      "    0   0   0   0   0   0   0  67 114  72 114 163 227 254 225 254 254 254\n",
      "  250 229 254 254 140   0   0   0   0   0   0   0   0   0   0   0   0   0\n",
      "    0   0   0   0  17  66  14  67  67  67  59  21 236 254 106   0   0   0\n",
      "    0   0   0   0   0   0   0   0   0   0   0   0   0   0   0   0   0   0\n",
      "    0   0   0  83 253 209  18   0   0   0   0   0   0   0   0   0   0   0\n",
      "    0   0   0   0   0   0   0   0   0   0   0   0  22 233 255  83   0   0\n",
      "    0   0   0   0   0   0   0   0   0   0   0   0   0   0   0   0   0   0\n",
      "    0   0   0   0 129 254 238  44   0   0   0   0   0   0   0   0   0   0\n",
      "    0   0   0   0   0   0   0   0   0   0   0   0   0  59 249 254  62   0\n",
      "    0   0   0   0   0   0   0   0   0   0   0   0   0   0   0   0   0   0\n",
      "    0   0   0   0   0 133 254 187   5   0   0   0   0   0   0   0   0   0\n",
      "    0   0   0   0   0   0   0   0   0   0   0   0   0   0   9 205 248  58\n",
      "    0   0   0   0   0   0   0   0   0   0   0   0   0   0   0   0   0   0\n",
      "    0   0   0   0   0   0 126 254 182   0   0   0   0   0   0   0   0   0\n",
      "    0   0   0   0   0   0   0   0   0   0   0   0   0   0   0  75 251 240\n",
      "   57   0   0   0   0   0   0   0   0   0   0   0   0   0   0   0   0   0\n",
      "    0   0   0   0   0   0  19 221 254 166   0   0   0   0   0   0   0   0\n",
      "    0   0   0   0   0   0   0   0   0   0   0   0   0   0   0   3 203 254\n",
      "  219  35   0   0   0   0   0   0   0   0   0   0   0   0   0   0   0   0\n",
      "    0   0   0   0   0   0   0  38 254 254  77   0   0   0   0   0   0   0\n",
      "    0   0   0   0   0   0   0   0   0   0   0   0   0   0   0   0  31 224\n",
      "  254 115   1   0   0   0   0   0   0   0   0   0   0   0   0   0   0   0\n",
      "    0   0   0   0   0   0   0   0 133 254 254  52   0   0   0   0   0   0\n",
      "    0   0   0   0   0   0   0   0   0   0   0   0   0   0   0   0   0  61\n",
      "  242 254 254  52   0   0   0   0   0   0   0   0   0   0   0   0   0   0\n",
      "    0   0   0   0   0   0   0   0   0 121 254 254 219  40   0   0   0   0\n",
      "    0   0   0   0   0   0   0   0   0   0   0   0   0   0   0   0   0   0\n",
      "    0 121 254 207  18   0   0   0   0   0   0   0   0   0   0   0   0   0\n",
      "    0   0   0   0   0   0   0   0   0   0   0   0   0   0   0   0   0   0\n",
      "    0   0   0   0   0   0   0   0   0   0   0]]\n"
     ]
    }
   ],
   "source": [
    "print(test_set.head(1).values)"
   ]
  },
  {
   "cell_type": "code",
   "execution_count": 23,
   "metadata": {},
   "outputs": [
    {
     "name": "stdout",
     "output_type": "stream",
     "text": [
      "[[  5   0   0   0   0   0   0   0   0   0   0   0   0   0   0   0   0   0\n",
      "    0   0   0   0   0   0   0   0   0   0   0   0   0   0   0   0   0   0\n",
      "    0   0   0   0   0   0   0   0   0   0   0   0   0   0   0   0   0   0\n",
      "    0   0   0   0   0   0   0   0   0   0   0   0   0   0   0   0   0   0\n",
      "    0   0   0   0   0   0   0   0   0   0   0   0   0   0   0   0   0   0\n",
      "    0   0   0   0   0   0   0   0   0   0   0   0   0   0   0   0   0   0\n",
      "    0   0   0   0   0   0   0   0   0   0   0   0   0   0   0   0   0   0\n",
      "    0   0   0   0   0   0   0   0   0   0   0   0   0   0   0   0   0   0\n",
      "    0   0   0   0   0   0   0   0   0   3  18  18  18 126 136 175  26 166\n",
      "  255 247 127   0   0   0   0   0   0   0   0   0   0   0   0  30  36  94\n",
      "  154 170 253 253 253 253 253 225 172 253 242 195  64   0   0   0   0   0\n",
      "    0   0   0   0   0   0  49 238 253 253 253 253 253 253 253 253 251  93\n",
      "   82  82  56  39   0   0   0   0   0   0   0   0   0   0   0   0  18 219\n",
      "  253 253 253 253 253 198 182 247 241   0   0   0   0   0   0   0   0   0\n",
      "    0   0   0   0   0   0   0   0   0  80 156 107 253 253 205  11   0  43\n",
      "  154   0   0   0   0   0   0   0   0   0   0   0   0   0   0   0   0   0\n",
      "    0   0  14   1 154 253  90   0   0   0   0   0   0   0   0   0   0   0\n",
      "    0   0   0   0   0   0   0   0   0   0   0   0   0   0 139 253 190   2\n",
      "    0   0   0   0   0   0   0   0   0   0   0   0   0   0   0   0   0   0\n",
      "    0   0   0   0   0   0  11 190 253  70   0   0   0   0   0   0   0   0\n",
      "    0   0   0   0   0   0   0   0   0   0   0   0   0   0   0   0   0  35\n",
      "  241 225 160 108   1   0   0   0   0   0   0   0   0   0   0   0   0   0\n",
      "    0   0   0   0   0   0   0   0   0   0  81 240 253 253 119  25   0   0\n",
      "    0   0   0   0   0   0   0   0   0   0   0   0   0   0   0   0   0   0\n",
      "    0   0   0  45 186 253 253 150  27   0   0   0   0   0   0   0   0   0\n",
      "    0   0   0   0   0   0   0   0   0   0   0   0   0   0  16  93 252 253\n",
      "  187   0   0   0   0   0   0   0   0   0   0   0   0   0   0   0   0   0\n",
      "    0   0   0   0   0   0   0   0 249 253 249  64   0   0   0   0   0   0\n",
      "    0   0   0   0   0   0   0   0   0   0   0   0   0   0   0  46 130 183\n",
      "  253 253 207   2   0   0   0   0   0   0   0   0   0   0   0   0   0   0\n",
      "    0   0   0   0   0  39 148 229 253 253 253 250 182   0   0   0   0   0\n",
      "    0   0   0   0   0   0   0   0   0   0   0   0   0  24 114 221 253 253\n",
      "  253 253 201  78   0   0   0   0   0   0   0   0   0   0   0   0   0   0\n",
      "    0   0   0  23  66 213 253 253 253 253 198  81   2   0   0   0   0   0\n",
      "    0   0   0   0   0   0   0   0   0   0   0  18 171 219 253 253 253 253\n",
      "  195  80   9   0   0   0   0   0   0   0   0   0   0   0   0   0   0   0\n",
      "    0  55 172 226 253 253 253 253 244 133  11   0   0   0   0   0   0   0\n",
      "    0   0   0   0   0   0   0   0   0   0   0 136 253 253 253 212 135 132\n",
      "   16   0   0   0   0   0   0   0   0   0   0   0   0   0   0   0   0   0\n",
      "    0   0   0   0   0   0   0   0   0   0   0   0   0   0   0   0   0   0\n",
      "    0   0   0   0   0   0   0   0   0   0   0   0   0   0   0   0   0   0\n",
      "    0   0   0   0   0   0   0   0   0   0   0   0   0   0   0   0   0   0\n",
      "    0   0   0   0   0   0   0   0   0   0   0   0   0   0   0   0   0   0\n",
      "    0   0   0   0   0   0   0   0   0   0   0]]\n"
     ]
    }
   ],
   "source": [
    "print(train_set.head(1).values)"
   ]
  },
  {
   "cell_type": "code",
   "execution_count": 26,
   "metadata": {},
   "outputs": [],
   "source": [
    "def convert_to_grayscale(dataset):\n",
    "    # Extract the pixel values from the dataset\n",
    "    pixel_columns = dataset.columns[1:]  # Assuming the pixel values start from the second column\n",
    "    pixel_values = dataset[pixel_columns].values\n",
    "\n",
    "    # Reshape pixel values into 28x28 images\n",
    "    images = pixel_values.reshape(-1, 28, 28)\n",
    "\n",
    "    # Convert the list of grayscale images to a NumPy array\n",
    "    grayscale_images = np.array(images)\n",
    "    return grayscale_images\n"
   ]
  },
  {
   "cell_type": "markdown",
   "metadata": {},
   "source": [
    "Spliting Images and Labels in Train and Test Sets"
   ]
  },
  {
   "cell_type": "code",
   "execution_count": 27,
   "metadata": {},
   "outputs": [],
   "source": [
    "train_x = np.log1p(convert_to_grayscale(train_set))\n",
    "test_x =  np.log1p(convert_to_grayscale(test_set))\n",
    "train_y = train_set['label']\n",
    "test_y = test_set['label']"
   ]
  },
  {
   "cell_type": "markdown",
   "metadata": {},
   "source": [
    "Visualization of Images with Labels"
   ]
  },
  {
   "cell_type": "code",
   "execution_count": 28,
   "metadata": {},
   "outputs": [
    {
     "data": {
      "image/png": "[encoded data removed]",
      "text/plain": [
       "<Figure size 640x480 with 1 Axes>"
      ]
     },
     "metadata": {},
     "output_type": "display_data"
    },
    {
     "name": "stdout",
     "output_type": "stream",
     "text": [
      "9\n"
     ]
    }
   ],
   "source": [
    "image_pixel_values = train_x[9, :, :] \n",
    "\n",
    "# Reshape the pixel values into a 28x28 array\n",
    "image_array = image_pixel_values.reshape(28, 28)\n",
    "\n",
    "# Display the image using plt.imread\n",
    "plt.imshow(image_array, cmap='gray') \n",
    "plt.axis('off')  # Turn off axis labels and ticks\n",
    "plt.show()\n",
    "print(test_set.iloc[9,0])"
   ]
  },
  {
   "cell_type": "code",
   "execution_count": 29,
   "metadata": {},
   "outputs": [
    {
     "data": {
      "image/png": "[encoded data removed]",
      "text/plain": [
       "<Figure size 640x480 with 1 Axes>"
      ]
     },
     "metadata": {},
     "output_type": "display_data"
    },
    {
     "data": {
      "image/png": "[encoded data removed]",
      "text/plain": [
       "<Figure size 640x480 with 1 Axes>"
      ]
     },
     "metadata": {},
     "output_type": "display_data"
    },
    {
     "data": {
      "image/png": "[encoded data removed]",
      "text/plain": [
       "<Figure size 640x480 with 1 Axes>"
      ]
     },
     "metadata": {},
     "output_type": "display_data"
    },
    {
     "data": {
      "image/png": "[encoded data removed]",
      "text/plain": [
       "<Figure size 640x480 with 1 Axes>"
      ]
     },
     "metadata": {},
     "output_type": "display_data"
    },
    {
     "data": {
      "image/png": "[encoded data removed]",
      "text/plain": [
       "<Figure size 640x480 with 1 Axes>"
      ]
     },
     "metadata": {},
     "output_type": "display_data"
    }
   ],
   "source": [
    "for i in range(5):\n",
    "    transformed_img = train_x[i]\n",
    "    original_img = np.expm1(transformed_img)\n",
    "    plt.imshow(original_img, cmap='gray', vmin=0, vmax=255)\n",
    "    plt.axis('off')\n",
    "    plt.show()"
   ]
  },
  {
   "cell_type": "code",
   "execution_count": 30,
   "metadata": {},
   "outputs": [
    {
     "name": "stdout",
     "output_type": "stream",
     "text": [
      "Image 1 - Mean: 35.11, Min: 0.0, Max: 254.99999999999994\n",
      "Image 2 - Mean: 39.66, Min: 0.0, Max: 254.99999999999994\n",
      "Image 3 - Mean: 24.80, Min: 0.0, Max: 254.99999999999994\n",
      "Image 4 - Mean: 21.86, Min: 0.0, Max: 254.99999999999994\n",
      "Image 5 - Mean: 29.61, Min: 0.0, Max: 254.99999999999994\n"
     ]
    }
   ],
   "source": [
    "for i in range(5):\n",
    "    transformed_img = train_x[i]\n",
    "    original_img = np.expm1(transformed_img)\n",
    "    img_mean = original_img.mean()\n",
    "    img_min = original_img.min()\n",
    "    img_max = original_img.max()\n",
    "    print(f\"Image {i+1} - Mean: {img_mean:.2f}, Min: {img_min}, Max: {img_max}\")"
   ]
  },
  {
   "cell_type": "code",
   "execution_count": 31,
   "metadata": {},
   "outputs": [
    {
     "data": {
      "image/png": "[encoded data removed]",
      "text/plain": [
       "<Figure size 640x480 with 1 Axes>"
      ]
     },
     "metadata": {},
     "output_type": "display_data"
    },
    {
     "name": "stdout",
     "output_type": "stream",
     "text": [
      "4\n"
     ]
    }
   ],
   "source": [
    "# Extract the pixel values for the chosen image\n",
    "image_pixel_values = test_x[33,:,:] # Columns 1 to end contain pixel values\n",
    "\n",
    "# Reshape the pixel values into a 28x28 array\n",
    "image_array = np.array(image_pixel_values).reshape(28, 28)\n",
    "\n",
    "# Display the image using plt.imread\n",
    "plt.imshow(image_array, cmap='gray')  \n",
    "plt.axis('off')  # Turn off axis labels and ticks\n",
    "plt.show()\n",
    "print(test_y[33])"
   ]
  },
  {
   "cell_type": "code",
   "execution_count": 32,
   "metadata": {},
   "outputs": [
    {
     "data": {
      "image/png": "[encoded data removed]",
      "text/plain": [
       "<Figure size 640x480 with 1 Axes>"
      ]
     },
     "metadata": {},
     "output_type": "display_data"
    },
    {
     "name": "stdout",
     "output_type": "stream",
     "text": [
      "9\n"
     ]
    }
   ],
   "source": [
    "# Extract the pixel values for the chosen image\n",
    "image_pixel_values = train_x[33,:,:] # Columns 1 to end contain pixel values\n",
    "\n",
    "# Reshape the pixel values into a 28x28 array\n",
    "image_array = np.array(image_pixel_values).reshape(28, 28)\n",
    "\n",
    "# Display the image using plt.imread\n",
    "plt.imshow(image_array, cmap='gray' ) \n",
    "plt.axis('off')  # Turn off axis labels and ticks\n",
    "plt.show()\n",
    "print(train_y[33])"
   ]
  },
  {
   "cell_type": "markdown",
   "metadata": {},
   "source": [
    "Skewness Detection and Solution"
   ]
  },
  {
   "cell_type": "code",
   "execution_count": 33,
   "metadata": {},
   "outputs": [
    {
     "name": "stdout",
     "output_type": "stream",
     "text": [
      "Initial Skewness: 2.1511040998639936\n",
      "Transformed Skewness: 1.7009873377900953\n"
     ]
    },
    {
     "data": {
      "image/png": "[encoded data removed]",
      "text/plain": [
       "<Figure size 1000x400 with 2 Axes>"
      ]
     },
     "metadata": {},
     "output_type": "display_data"
    }
   ],
   "source": [
    "from scipy.stats import skew\n",
    "all_pixel_values_train = np.expm1(np.array(train_x)).flatten()\n",
    "\n",
    "# Calculate skewness before transformation\n",
    "initial_skewness_train = skew(all_pixel_values_train)\n",
    "print(f\"Initial Skewness: {initial_skewness_train}\")\n",
    "\n",
    "# Apply logarithm transformation\n",
    "transformed_pixel_values_train = np.array(train_x).flatten()\n",
    "\n",
    "# Calculate skewness after transformation\n",
    "transformed_skewness_train = skew(transformed_pixel_values_train)\n",
    "print(f\"Transformed Skewness: {transformed_skewness_train}\")\n",
    "\n",
    "# Plot histograms before and after transformation\n",
    "plt.figure(figsize=(10, 4))\n",
    "plt.subplot(1, 2, 1)\n",
    "plt.hist(all_pixel_values_train, bins=50, color='blue', alpha=0.7)\n",
    "plt.title('Before Transformation')\n",
    "plt.subplot(1, 2, 2)\n",
    "plt.hist(transformed_pixel_values_train, bins=50, color='green', alpha=0.7)\n",
    "plt.title('After Log Transformation')\n",
    "plt.tight_layout()\n",
    "plt.show()"
   ]
  },
  {
   "cell_type": "code",
   "execution_count": 34,
   "metadata": {},
   "outputs": [
    {
     "name": "stdout",
     "output_type": "stream",
     "text": [
      "Initial Skewness: 2.1285586190159993\n",
      "Transformed Skewness: 1.687129941766621\n"
     ]
    },
    {
     "data": {
      "image/png": "[encoded data removed]",
      "text/plain": [
       "<Figure size 1000x400 with 2 Axes>"
      ]
     },
     "metadata": {},
     "output_type": "display_data"
    }
   ],
   "source": [
    "all_pixel_values_test = np.expm1(np.array(test_x)).flatten()\n",
    "\n",
    "# Calculate skewness before transformation\n",
    "initial_skewness_test = skew(all_pixel_values_test)\n",
    "print(f\"Initial Skewness: {initial_skewness_test}\")\n",
    "\n",
    "# Apply logarithm transformation\n",
    "transformed_pixel_values_test = np.array(test_x).flatten()\n",
    "\n",
    "# Calculate skewness after transformation\n",
    "transformed_skewness_test = skew(transformed_pixel_values_test)\n",
    "print(f\"Transformed Skewness: {transformed_skewness_test}\")\n",
    "\n",
    "# Plot histograms before and after transformation\n",
    "plt.figure(figsize=(10, 4))\n",
    "plt.subplot(1, 2, 1)\n",
    "plt.hist(all_pixel_values_test, bins=50, color='blue', alpha=0.7)\n",
    "plt.title('Before Transformation')\n",
    "plt.subplot(1, 2, 2)\n",
    "plt.hist(transformed_pixel_values_test, bins=50, color='green', alpha=0.7)\n",
    "plt.title('After Log Transformation')\n",
    "plt.tight_layout()\n",
    "plt.show()"
   ]
  },
  {
   "cell_type": "markdown",
   "metadata": {},
   "source": [
    "Train the Model (Neural Network)"
   ]
  },
  {
   "cell_type": "code",
   "execution_count": 37,
   "metadata": {},
   "outputs": [
    {
     "name": "stdout",
     "output_type": "stream",
     "text": [
      "Epoch 1/10\n",
      "938/938 [==============================] - 77s 78ms/step - loss: 0.1588 - accuracy: 0.9505 - val_loss: 0.0547 - val_accuracy: 0.9820\n",
      "Epoch 2/10\n",
      "938/938 [==============================] - 73s 78ms/step - loss: 0.0503 - accuracy: 0.9844 - val_loss: 0.0601 - val_accuracy: 0.9814\n",
      "Epoch 3/10\n",
      "938/938 [==============================] - 94s 101ms/step - loss: 0.0363 - accuracy: 0.9886 - val_loss: 0.0365 - val_accuracy: 0.9879\n",
      "Epoch 4/10\n",
      "938/938 [==============================] - 86s 92ms/step - loss: 0.0291 - accuracy: 0.9909 - val_loss: 0.0350 - val_accuracy: 0.9885\n",
      "Epoch 5/10\n",
      "938/938 [==============================] - 88s 93ms/step - loss: 0.0224 - accuracy: 0.9928 - val_loss: 0.0413 - val_accuracy: 0.9879\n",
      "Epoch 6/10\n",
      "938/938 [==============================] - 92s 98ms/step - loss: 0.0181 - accuracy: 0.9940 - val_loss: 0.0318 - val_accuracy: 0.9906\n",
      "Epoch 7/10\n",
      "938/938 [==============================] - 136s 145ms/step - loss: 0.0147 - accuracy: 0.9955 - val_loss: 0.0396 - val_accuracy: 0.9885\n",
      "Epoch 8/10\n",
      "938/938 [==============================] - 685s 731ms/step - loss: 0.0136 - accuracy: 0.9958 - val_loss: 0.0421 - val_accuracy: 0.9877\n",
      "Epoch 9/10\n",
      "938/938 [==============================] - 114s 121ms/step - loss: 0.0119 - accuracy: 0.9962 - val_loss: 0.0416 - val_accuracy: 0.9900\n",
      "Epoch 10/10\n",
      "938/938 [==============================] - 93s 99ms/step - loss: 0.0115 - accuracy: 0.9964 - val_loss: 0.0507 - val_accuracy: 0.9877\n",
      "313/313 [==============================] - 4s 14ms/step - loss: 0.0507 - accuracy: 0.9877\n",
      "Test accuracy: 0.99\n"
     ]
    }
   ],
   "source": [
    "# Reshape the image data to include the channel dimension\n",
    "train_x_reshaped = train_x.reshape(-1, 28, 28, 1)\n",
    "test_x_reshaped = test_x.reshape(-1, 28, 28, 1)\n",
    "\n",
    "# Build the model\n",
    "model = tf.keras.models.Sequential()\n",
    "model.add(tf.keras.layers.Input(shape=(28, 28, 1)))  # Input shape includes channel dimension\n",
    "\n",
    "# Add convolutional layers\n",
    "model.add(tf.keras.layers.Conv2D(32, (3, 3), activation='relu'))\n",
    "model.add(tf.keras.layers.MaxPooling2D((2, 2)))\n",
    "model.add(tf.keras.layers.Conv2D(64, (3, 3), activation='relu'))\n",
    "model.add(tf.keras.layers.MaxPooling2D((2, 2)))\n",
    "model.add(tf.keras.layers.Conv2D(64, (3, 3), activation='relu'))\n",
    "\n",
    "# Flatten the output of the last convolutional layer\n",
    "model.add(tf.keras.layers.Flatten())\n",
    "\n",
    "# Add fully connected layers\n",
    "model.add(tf.keras.layers.Dense(64, activation='relu'))\n",
    "model.add(tf.keras.layers.Dense(10, activation='softmax'))  # 10 classes for digits 0-9\n",
    "\n",
    "# Compile the model\n",
    "model.compile(optimizer='adam',\n",
    "              loss='sparse_categorical_crossentropy',\n",
    "              metrics=['accuracy'])\n",
    "\n",
    "# Train the model\n",
    "model.fit(train_x_reshaped, train_y, epochs=10, batch_size=64, validation_data=(test_x_reshaped, test_y))\n",
    "\n",
    "# Evaluate the model\n",
    "test_loss, test_acc = model.evaluate(test_x_reshaped, test_y)\n",
    "print(f\"Test accuracy: {test_acc:.2f}\")\n"
   ]
  },
  {
   "cell_type": "markdown",
   "metadata": {},
   "source": [
    "Save the model"
   ]
  },
  {
   "cell_type": "code",
   "execution_count": 38,
   "metadata": {},
   "outputs": [
    {
     "name": "stderr",
     "output_type": "stream",
     "text": [
      "C:\\Users\\ammar\\AppData\\Local\\Packages\\PythonSoftwareFoundation.Python.3.11_qbz5n2kfra8p0\\LocalCache\\local-packages\\Python311\\site-packages\\keras\\src\\engine\\training.py:3000: UserWarning: You are saving your model as an HDF5 file via `model.save()`. This file format is considered legacy. We recommend using instead the native Keras format, e.g. `model.save('my_model.keras')`.\n",
      "  saving_api.save_model(\n"
     ]
    }
   ],
   "source": [
    "model.save('models/CNN.h5')"
   ]
  },
  {
   "cell_type": "markdown",
   "metadata": {},
   "source": [
    "Use the Model"
   ]
  },
  {
   "cell_type": "code",
   "execution_count": 42,
   "metadata": {},
   "outputs": [
    {
     "name": "stdout",
     "output_type": "stream",
     "text": [
      "1/1 [==============================] - 0s 106ms/step\n",
      "Real Label: 1\n",
      "Label Predicted by CNN: 1\n"
     ]
    }
   ],
   "source": [
    "image = test_x[2, :, :]\n",
    "real_label = test_y.iloc[2]\n",
    "\n",
    "pred_label_model = model.predict(image.reshape(-1, 28, 28, 1))\n",
    "\n",
    "print(f\"Real Label: {real_label}\")\n",
    "print(f\"Label Predicted by CNN: {np.argmax(pred_label_model)}\")\n"
   ]
  }
 ],
 "metadata": {
  "kernelspec": {
   "display_name": "Python 3",
   "language": "python",
   "name": "python3"
  },
  "language_info": {
   "codemirror_mode": {
    "name": "ipython",
    "version": 3
   },
   "file_extension": ".py",
   "mimetype": "text/x-python",
   "name": "python",
   "nbconvert_exporter": "python",
   "pygments_lexer": "ipython3",
   "version": "3.11.3"
  },
  "orig_nbformat": 4
 },
 "nbformat": 4,
 "nbformat_minor": 2
}
